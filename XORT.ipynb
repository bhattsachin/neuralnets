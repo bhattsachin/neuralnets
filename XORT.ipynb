import numpy as np
X = np.array([[0,0,0],[0,1,1],[1,0,1],[1,1,1]])
Y = np.array([[0,1,1,0]]).T
def nonlin(x,deriv=False):
    if(deriv==True):
        return x*(1-x)
    
    return 1/(1+np.exp(-x))
inputLayer = 2*np.random.random((3,4))-1
hiddenLayer = 2*np.random.random((4,1)) -1
for j in xrange(6000):
    l0 = X
    l1 = nonlin(np.dot(l0, inputLayer))
    l2 = nonlin(np.dot(l1, hiddenLayer))
    l2_error = Y-l2
    l2_delta = (l2_error)*(nonlin(l2, deriv=True))
    
    l1_error = l2_delta.dot(hiddenLayer.T)
    l1_delta = l1_error*nonlin(l1, deriv=True)
    hiddenLayer += l1.T.dot(l2_delta)
    inputLayer += X.T.dot(l1_delta)
print l2

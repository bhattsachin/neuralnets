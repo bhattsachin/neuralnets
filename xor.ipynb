{
 "cells": [
  {
   "cell_type": "markdown",
   "metadata": {},
   "source": [
    "## Backprop on XOR"
   ]
  },
  {
   "cell_type": "code",
   "execution_count": 1,
   "metadata": {},
   "outputs": [
    {
     "name": "stdout",
     "output_type": "stream",
     "text": [
      "[[ 0.01485977]\n",
      " [ 0.98937683]\n",
      " [ 0.98938747]\n",
      " [ 0.00876579]]\n"
     ]
    }
   ],
   "source": [
    "import numpy as np\n",
    "X = np.array([[0,0,0],[0,1,1],[1,0,1],[1,1,1]])\n",
    "Y = np.array([[0,1,1,0]]).T\n",
    "def nonlin(x,deriv=False):\n",
    "    if(deriv==True):\n",
    "        return x*(1-x)\n",
    "\n",
    "    return 1/(1+np.exp(-x))\n",
    "inputLayer = 2*np.random.random((3,4))-1\n",
    "hiddenLayer = 2*np.random.random((4,1)) -1\n",
    "for j in xrange(6000):\n",
    "    l0 = X\n",
    "    l1 = nonlin(np.dot(l0, inputLayer))\n",
    "    l2 = nonlin(np.dot(l1, hiddenLayer))\n",
    "    l2_error = Y-l2\n",
    "    l2_delta = (l2_error)*(nonlin(l2, deriv=True))\n",
    "\n",
    "    l1_error = l2_delta.dot(hiddenLayer.T)\n",
    "    l1_delta = l1_error*nonlin(l1, deriv=True)\n",
    "    hiddenLayer += l1.T.dot(l2_delta)\n",
    "    inputLayer += X.T.dot(l1_delta)\n",
    "print l2"
   ]
  }
 ],
 "metadata": {
  "kernelspec": {
   "display_name": "Python 2",
   "language": "python",
   "name": "python2"
  },
  "language_info": {
   "codemirror_mode": {
    "name": "ipython",
    "version": 2
   },
   "file_extension": ".py",
   "mimetype": "text/x-python",
   "name": "python",
   "nbconvert_exporter": "python",
   "pygments_lexer": "ipython2",
   "version": "2.7.13"
  }
 },
 "nbformat": 4,
 "nbformat_minor": 2
}
